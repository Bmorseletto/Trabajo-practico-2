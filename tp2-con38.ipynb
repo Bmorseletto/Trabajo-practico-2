{
 "cells": [
  {
   "cell_type": "code",
   "execution_count": 1,
   "id": "1dc1ebdc-a191-4979-96b3-28d8e8a3a877",
   "metadata": {},
   "outputs": [],
   "source": [
    "import os\n",
    "os.environ[\"JAVA_HOME\"] = \"/usr/lib/jvm/java-8-openjdk-amd64\"\n",
    "from pyspark.sql import *\n",
    "#from pyspark.sql.functions import *\n",
    "from pyspark import SparkContext\n",
    "from pyspark.sql import SQLContext\n",
    "import math"
   ]
  },
  {
   "cell_type": "code",
   "execution_count": 12,
   "id": "b7df0a90-6a11-4635-8655-4b6cf2ffb7a8",
   "metadata": {},
   "outputs": [],
   "source": [
    "spark = SparkSession.builder.getOrCreate()\n",
    "sc = spark.sparkContext"
   ]
  },
  {
   "cell_type": "code",
   "execution_count": 13,
   "id": "5f9f1311-9751-4f81-912e-8f622630e510",
   "metadata": {},
   "outputs": [],
   "source": [
    "sqlContext = SQLContext(sc)\n",
    "geo_tags = sqlContext.read.csv('geo_tags.csv', header=True, inferSchema=True)\n",
    "geo_tags_rdd = geo_tags.rdd"
   ]
  },
  {
   "cell_type": "code",
   "execution_count": 4,
   "id": "2f74531f-9d41-4001-8de1-561d9654bbf3",
   "metadata": {},
   "outputs": [
    {
     "name": "stderr",
     "output_type": "stream",
     "text": [
      "                                                                                \r"
     ]
    }
   ],
   "source": [
    "contents = sqlContext.read.csv('contents.csv', header=True, inferSchema=True)\n",
    "contents_rdd = contents.rdd"
   ]
  },
  {
   "cell_type": "code",
   "execution_count": 5,
   "id": "04b08b82-68cd-4f34-9e26-019ee12e8bbd",
   "metadata": {},
   "outputs": [],
   "source": [
    "geo_tags_latitud_y_longitud=geo_tags_rdd.map(lambda x: (x[1], [x[4], x[5]])).filter(lambda x: x[0]!= None )"
   ]
  },
  {
   "cell_type": "code",
   "execution_count": 6,
   "id": "8ade7b02-8962-4776-aba0-39dd6542a119",
   "metadata": {},
   "outputs": [],
   "source": [
    "contents_mapped=contents_rdd.filter(lambda x: x[1]!= None and x[1].isnumeric()).map(lambda x: (int(x[1]), x[6] if x[6] != None else x[8]))"
   ]
  },
  {
   "cell_type": "code",
   "execution_count": 7,
   "id": "ab2f7679-e5d5-414d-a924-1979e69457be",
   "metadata": {},
   "outputs": [
    {
     "name": "stderr",
     "output_type": "stream",
     "text": [
      "                                                                                \r"
     ]
    }
   ],
   "source": [
    "test_v=geo_tags_latitud_y_longitud.join(contents_mapped).map(lambda x: (x[1][1], x[1][0])).reduceByKey(lambda x,y: [(x[0]+y[0])/2, (x[1]+y[1])/2]).sortBy(lambda x: x[1]).cache()"
   ]
  },
  {
   "cell_type": "code",
   "execution_count": 8,
   "id": "e54022e0-46cd-429c-9fef-7e3f9c1d1caa",
   "metadata": {},
   "outputs": [],
   "source": [
    "def dist(l1, l2):\n",
    "    return math.sqrt((l1[0]-l2[0])**2+(l1[1]-l2[1])**2)"
   ]
  },
  {
   "cell_type": "code",
   "execution_count": 9,
   "id": "27cad164-bebc-4c2d-8161-2c3458220983",
   "metadata": {},
   "outputs": [],
   "source": [
    "lista = []\n",
    "listas=test_v.collect()\n",
    "for i in range(len(listas)-1):\n",
    "    lista.append((listas[i], listas[i+1]))"
   ]
  },
  {
   "cell_type": "code",
   "execution_count": 10,
   "id": "c0125e2d-9742-4232-bd80-78d69299a775",
   "metadata": {},
   "outputs": [],
   "source": [
    "rdd_grafo = sc.parallelize(lista)"
   ]
  },
  {
   "cell_type": "code",
   "execution_count": 11,
   "id": "5b0ca41e-b781-4554-b143-2c03d3171d58",
   "metadata": {},
   "outputs": [
    {
     "data": {
      "text/plain": [
       "[('190.104.131.138', '45.227.216.227', 0.0)]"
      ]
     },
     "execution_count": 11,
     "metadata": {},
     "output_type": "execute_result"
    }
   ],
   "source": [
    "rdd_grafo.map(lambda x: (x[0][0], x[1][0], dist(x[0][1], x[1][1]))).sortBy(lambda x: x[2]).take(1)"
   ]
  }
 ],
 "metadata": {
  "kernelspec": {
   "display_name": "Python 3 (ipykernel)",
   "language": "python",
   "name": "python3"
  },
  "language_info": {
   "codemirror_mode": {
    "name": "ipython",
    "version": 3
   },
   "file_extension": ".py",
   "mimetype": "text/x-python",
   "name": "python",
   "nbconvert_exporter": "python",
   "pygments_lexer": "ipython3",
   "version": "3.8.10"
  }
 },
 "nbformat": 4,
 "nbformat_minor": 5
}
