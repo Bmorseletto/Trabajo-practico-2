{
 "cells": [
  {
   "cell_type": "code",
   "execution_count": 1,
   "id": "f944e084-d30b-41c6-97cf-b1a6d3bebcb9",
   "metadata": {},
   "outputs": [],
   "source": [
    "import os\n",
    "os.environ[\"JAVA_HOME\"] = \"/usr/lib/jvm/java-8-openjdk-amd64\""
   ]
  },
  {
   "cell_type": "code",
   "execution_count": 2,
   "id": "d9b8eb59-4131-494f-830a-c220493d645d",
   "metadata": {},
   "outputs": [],
   "source": [
    "from pyspark.sql import *\n",
    "from pyspark.sql.functions import *\n",
    "from pyspark import SparkContext\n",
    "from pyspark.sql import SQLContext\n",
    "from collections import Counter"
   ]
  },
  {
   "cell_type": "code",
   "execution_count": 8,
   "id": "08cc6d50-88ef-4463-9281-e2c49a3b1d09",
   "metadata": {},
   "outputs": [],
   "source": [
    "spark = SparkSession.builder.getOrCreate()\n",
    "sc = spark.sparkContext"
   ]
  },
  {
   "cell_type": "code",
   "execution_count": 9,
   "id": "976624f2-8bb4-4027-a2a2-3d098e700611",
   "metadata": {},
   "outputs": [
    {
     "name": "stderr",
     "output_type": "stream",
     "text": [
      "                                                                                \r"
     ]
    }
   ],
   "source": [
    "sqlContext = SQLContext(sc)\n",
    "contents = sqlContext.read.csv('contents.csv', header=True, inferSchema=True)\n",
    "category = sqlContext.read.csv('categorylinks.csv', header=True, inferSchema=True)"
   ]
  },
  {
   "cell_type": "code",
   "execution_count": 5,
   "id": "3d6e67ea-c388-4add-965d-b3188d025f03",
   "metadata": {},
   "outputs": [],
   "source": [
    "contents_rdd = contents.rdd.filter(lambda x: x[7] == None).map(lambda x: (x[1], 1))"
   ]
  },
  {
   "cell_type": "code",
   "execution_count": 6,
   "id": "6c199335-74b4-4fb0-a970-351c06e461f1",
   "metadata": {},
   "outputs": [],
   "source": [
    "category_rdd = category.rdd"
   ]
  },
  {
   "cell_type": "code",
   "execution_count": 7,
   "id": "ec28cd0e-14fe-4d9f-9714-5b1c27d78451",
   "metadata": {},
   "outputs": [
    {
     "name": "stderr",
     "output_type": "stream",
     "text": [
      "                                                                                \r"
     ]
    },
    {
     "data": {
      "text/plain": [
       "[('Jordania', 1),\n",
       " ('Obras_de_teatro_ambientadas_en_Italia', 1),\n",
       " ('Carolina', 1),\n",
       " ('PelÃ\\xadculas_rodadas_en_Osaka', 1),\n",
       " ('Ciencias_naturales', 1),\n",
       " ('Diputados_del_Grupo_Parlamentario_Socialista-Progresistas_en_la_Asamblea_de_Madrid',\n",
       "  1),\n",
       " ('Parque_de_la_Ciudadela', 1),\n",
       " ('K2', 1),\n",
       " ('PelÃ\\xadculas_dirigidas_por_Luis_BuÃ±uel', 1),\n",
       " ('Grupo_Auna', 1)]"
      ]
     },
     "execution_count": 7,
     "metadata": {},
     "output_type": "execute_result"
    }
   ],
   "source": [
    "category_rdd.map(lambda x: (x[0], x[1])).join(contents_rdd).map(lambda x: (x[1][0],1)).reduceByKey(lambda x, y: x+y).takeOrdered(10, lambda x: x[1])"
   ]
  }
 ],
 "metadata": {
  "kernelspec": {
   "display_name": "Python 3 (ipykernel)",
   "language": "python",
   "name": "python3"
  },
  "language_info": {
   "codemirror_mode": {
    "name": "ipython",
    "version": 3
   },
   "file_extension": ".py",
   "mimetype": "text/x-python",
   "name": "python",
   "nbconvert_exporter": "python",
   "pygments_lexer": "ipython3",
   "version": "3.8.10"
  }
 },
 "nbformat": 4,
 "nbformat_minor": 5
}
