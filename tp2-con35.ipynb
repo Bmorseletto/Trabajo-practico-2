{
 "cells": [
  {
   "cell_type": "code",
   "execution_count": 1,
   "id": "4841f75b-a77f-4227-a81e-a114a0191d5a",
   "metadata": {},
   "outputs": [],
   "source": [
    "import os\n",
    "os.environ[\"JAVA_HOME\"] = \"/usr/lib/jvm/java-8-openjdk-amd64\"\n",
    "from pyspark.sql import *\n",
    "from pyspark.sql.functions import *\n",
    "from pyspark import SparkContext\n",
    "from pyspark.sql import SQLContext\n",
    "from collections import Counter\n",
    "from datetime import datetime\n"
   ]
  },
  {
   "cell_type": "code",
   "execution_count": 9,
   "id": "2810cb66-735f-4033-bb14-7e33fa87c332",
   "metadata": {},
   "outputs": [],
   "source": [
    "spark = SparkSession.builder.getOrCreate()\n",
    "sc = spark.sparkContext"
   ]
  },
  {
   "cell_type": "code",
   "execution_count": 10,
   "id": "d79f8238-c670-4070-9e10-fe485f7ef03c",
   "metadata": {},
   "outputs": [],
   "source": [
    "sqlContext = SQLContext(sc)"
   ]
  },
  {
   "cell_type": "code",
   "execution_count": 4,
   "id": "e9980aae-0236-4c67-93a2-8088c2a5d5f8",
   "metadata": {},
   "outputs": [
    {
     "name": "stderr",
     "output_type": "stream",
     "text": [
      "                                                                                \r"
     ]
    }
   ],
   "source": [
    "logs = sqlContext.read.csv('logs.csv', header=True, inferSchema=True)"
   ]
  },
  {
   "cell_type": "code",
   "execution_count": 5,
   "id": "2cb0470f-4fbc-4500-a2f5-3a4569900225",
   "metadata": {},
   "outputs": [],
   "source": [
    "logs_rdd = logs.rdd.filter(lambda x: x[0] != None and x[0].isnumeric())"
   ]
  },
  {
   "cell_type": "code",
   "execution_count": 6,
   "id": "31935897-4ab4-4dc2-8d43-5c27589b27ce",
   "metadata": {},
   "outputs": [],
   "source": [
    "logs_usuarios_bloqueados = logs_rdd.filter(lambda x: x[7] == \"block\" and x[8] != None).map(lambda x: (x[8].replace(\"Usuario:\", \"\"), datetime.strptime(x[1], '%Y-%m-%dT%H:%M:%SZ')))"
   ]
  },
  {
   "cell_type": "code",
   "execution_count": 7,
   "id": "aed28e8f-71e9-48a1-97bd-2995df2caff3",
   "metadata": {},
   "outputs": [],
   "source": [
    "logs_usuarios_creados = logs_rdd.filter(lambda x: x[7] == \"newusers\" and x[8] != None).map(lambda x: (x[2], datetime.strptime(x[1], '%Y-%m-%dT%H:%M:%SZ')))"
   ]
  },
  {
   "cell_type": "code",
   "execution_count": 11,
   "id": "7d438fa2-1109-4fbf-a481-53eb00236eb5",
   "metadata": {},
   "outputs": [
    {
     "name": "stderr",
     "output_type": "stream",
     "text": [
      "                                                                                \r"
     ]
    },
    {
     "data": {
      "text/plain": [
       "('GhostBar', datetime.timedelta(seconds=6))"
      ]
     },
     "execution_count": 11,
     "metadata": {},
     "output_type": "execute_result"
    }
   ],
   "source": [
    "logs_usuarios_bloqueados.join(logs_usuarios_creados).filter(lambda x: x[1][1]<x[1][0]).map(lambda x: (x[0] ,x[1][0]-x[1][1])).reduce(lambda x,y: x if x[1] < y[1] else y)"
   ]
  },
  {
   "cell_type": "code",
   "execution_count": null,
   "id": "6d12240d-8888-4d9b-8481-a98d2cd23e53",
   "metadata": {},
   "outputs": [],
   "source": []
  }
 ],
 "metadata": {
  "kernelspec": {
   "display_name": "Python 3 (ipykernel)",
   "language": "python",
   "name": "python3"
  },
  "language_info": {
   "codemirror_mode": {
    "name": "ipython",
    "version": 3
   },
   "file_extension": ".py",
   "mimetype": "text/x-python",
   "name": "python",
   "nbconvert_exporter": "python",
   "pygments_lexer": "ipython3",
   "version": "3.8.10"
  }
 },
 "nbformat": 4,
 "nbformat_minor": 5
}
