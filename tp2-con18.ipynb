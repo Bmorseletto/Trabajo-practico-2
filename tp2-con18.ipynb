{
 "cells": [
  {
   "cell_type": "code",
   "execution_count": 1,
   "id": "85f39a55-4895-470e-b7b0-2c215f343ad5",
   "metadata": {},
   "outputs": [],
   "source": [
    "import os\n",
    "os.environ[\"JAVA_HOME\"] = \"/usr/lib/jvm/java-8-openjdk-amd64\"\n",
    "from pyspark.sql import *\n",
    "#from pyspark.sql.functions import *\n",
    "from pyspark import SparkContext\n",
    "from pyspark.sql import SQLContext"
   ]
  },
  {
   "cell_type": "code",
   "execution_count": 8,
   "id": "3e54da81-ba0c-4bb7-894e-483801fca023",
   "metadata": {},
   "outputs": [],
   "source": [
    "spark = SparkSession.builder.getOrCreate()\n",
    "sc = spark.sparkContext"
   ]
  },
  {
   "cell_type": "code",
   "execution_count": 9,
   "id": "5f9f1311-9751-4f81-912e-8f622630e510",
   "metadata": {},
   "outputs": [],
   "source": [
    "sqlContext = SQLContext(sc)\n",
    "geo_tags = sqlContext.read.csv('geo_tags.csv', header=True, inferSchema=True)\n",
    "geo_tags_rdd = geo_tags.rdd"
   ]
  },
  {
   "cell_type": "code",
   "execution_count": 4,
   "id": "4bae9411-c2ea-4d7a-86a2-5111c978a68b",
   "metadata": {},
   "outputs": [],
   "source": [
    "lenguajes = sqlContext.read.csv('languages.csv', header=True, inferSchema=True)\n",
    "lenguajes_rdd = lenguajes.rdd"
   ]
  },
  {
   "cell_type": "code",
   "execution_count": 5,
   "id": "eb723a7f-0598-4a4c-a44e-b6d3f54c79c7",
   "metadata": {},
   "outputs": [],
   "source": [
    "def organizacion_de_ususarios(lista):\n",
    "    usuarios_que_entienden = 0\n",
    "    usuarios_avanzados = 0\n",
    "    ususarios_basicos = 0\n",
    "    for x in lista:\n",
    "        if x == \"N\" or x>\"0\":\n",
    "            usuarios_que_entienden += 1\n",
    "            if x>\"3\" or x == \"N\":\n",
    "                usuarios_avanzados += 1\n",
    "            else:\n",
    "                ususarios_basicos += 1\n",
    "    return [usuarios_que_entienden, usuarios_avanzados, ususarios_basicos]"
   ]
  },
  {
   "cell_type": "code",
   "execution_count": 6,
   "id": "b1f1dc82-bc3b-4509-8c2e-6e570f627303",
   "metadata": {},
   "outputs": [],
   "source": [
    "rdd_usuarios_organizados=lenguajes_rdd.map(lambda x: (x[1], x[2])).groupByKey().map(lambda x:(x[0], organizacion_de_ususarios(list(x[1])))).map(lambda x: Row(lenguaje = x[0], usuarios_con_lectura_basica=x[1][0], usuarios_escritura_basica=x[1][2], usuarios_escritura_avanzada=x[1][1]))"
   ]
  },
  {
   "cell_type": "code",
   "execution_count": 7,
   "id": "0ce985a7-4b9f-4ed6-89ee-ea491651e6e4",
   "metadata": {},
   "outputs": [
    {
     "name": "stdout",
     "output_type": "stream",
     "text": [
      "+--------+---------------------------+-------------------------+---------------------------+\n",
      "|lenguaje|usuarios_con_lectura_basica|usuarios_escritura_basica|usuarios_escritura_avanzada|\n",
      "+--------+---------------------------+-------------------------+---------------------------+\n",
      "|      FR|                          1|                        1|                          0|\n",
      "|      aa|                          0|                        0|                          0|\n",
      "|      ab|                          1|                        1|                          0|\n",
      "|     ace|                          0|                        0|                          0|\n",
      "|     acf|                          1|                        1|                          0|\n",
      "|      af|                         10|                        9|                          1|\n",
      "|     agr|                          1|                        1|                          0|\n",
      "|     akk|                          1|                        1|                          0|\n",
      "|     aln|                          2|                        0|                          2|\n",
      "|     alt|                          0|                        0|                          0|\n",
      "|      am|                          2|                        2|                          0|\n",
      "|      an|                         57|                       53|                          4|\n",
      "|     ang|                          6|                        6|                          0|\n",
      "|      ar|                        161|                      135|                         26|\n",
      "|     arc|                          3|                        1|                          2|\n",
      "|     arn|                         15|                       14|                          1|\n",
      "|     ary|                          1|                        0|                          1|\n",
      "|     ase|                          2|                        2|                          0|\n",
      "|     ast|                        152|                      106|                         46|\n",
      "|      av|                          0|                        0|                          0|\n",
      "+--------+---------------------------+-------------------------+---------------------------+\n",
      "only showing top 20 rows\n",
      "\n"
     ]
    }
   ],
   "source": [
    "spark.createDataFrame(rdd_usuarios_organizados).show()"
   ]
  }
 ],
 "metadata": {
  "kernelspec": {
   "display_name": "Python 3 (ipykernel)",
   "language": "python",
   "name": "python3"
  },
  "language_info": {
   "codemirror_mode": {
    "name": "ipython",
    "version": 3
   },
   "file_extension": ".py",
   "mimetype": "text/x-python",
   "name": "python",
   "nbconvert_exporter": "python",
   "pygments_lexer": "ipython3",
   "version": "3.8.10"
  }
 },
 "nbformat": 4,
 "nbformat_minor": 5
}
