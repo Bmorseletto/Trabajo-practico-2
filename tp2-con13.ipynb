{
 "cells": [
  {
   "cell_type": "code",
   "execution_count": 1,
   "id": "f7769cb1",
   "metadata": {},
   "outputs": [],
   "source": [
    "from pyspark.sql import *\n",
    "from pyspark.sql.functions import *\n",
    "from pyspark import SparkContext\n",
    "from pyspark.sql import SQLContext\n",
    "#import pandas as pd\n",
    "from collections import Counter"
   ]
  },
  {
   "cell_type": "code",
   "execution_count": 5,
   "id": "f0fc2df9",
   "metadata": {},
   "outputs": [],
   "source": [
    "spark = SparkSession.builder.getOrCreate()\n",
    "sc = spark.sparkContext"
   ]
  },
  {
   "cell_type": "code",
   "execution_count": 6,
   "id": "e9436eee",
   "metadata": {},
   "outputs": [],
   "source": [
    "sqlContext = SQLContext(sc)\n",
    "df = sqlContext.read.csv('geo_tags.csv', header=True, inferSchema=True)\n",
    "geo_tags = df.rdd"
   ]
  },
  {
   "cell_type": "code",
   "execution_count": 4,
   "id": "5515c180",
   "metadata": {},
   "outputs": [
    {
     "name": "stderr",
     "output_type": "stream",
     "text": [
      "                                                                                \r"
     ]
    },
    {
     "data": {
      "text/plain": [
       "[('AR', 'C'),\n",
       " ('LV', 'RIX'),\n",
       " ('CA', 'QC'),\n",
       " ('IR', '7'),\n",
       " ('MX', 'QUE'),\n",
       " ('UA', '32'),\n",
       " ('NL', 'GR'),\n",
       " ('EH', 'GI'),\n",
       " ('GE', 'KK'),\n",
       " ('EE', '37'),\n",
       " ('BE', 'VOV'),\n",
       " ('SI', '61'),\n",
       " ('GT', 'PE'),\n",
       " ('IQ', 'BG'),\n",
       " ('GB', 'WSM'),\n",
       " ('JP', '13'),\n",
       " ('IT', 'RM'),\n",
       " ('SE', 'AB'),\n",
       " ('IL', 'JM'),\n",
       " ('GR', 'A1'),\n",
       " ('BO', 'P'),\n",
       " ('HU', 'BU'),\n",
       " ('KZ', 'BAY'),\n",
       " ('VE', 'G'),\n",
       " ('AN', 'ES'),\n",
       " ('SK', 'BL'),\n",
       " ('ES', 'CT'),\n",
       " ('DK', '82'),\n",
       " ('BA', 'BIH'),\n",
       " ('IE', 'L'),\n",
       " ('DE', 'BE'),\n",
       " ('CN', '11'),\n",
       " ('TR', '34'),\n",
       " ('BR', 'ES'),\n",
       " ('CY', '3'),\n",
       " ('ZA', 'GT'),\n",
       " ('NO', '5'),\n",
       " ('KR', '11'),\n",
       " ('PT', '10'),\n",
       " ('NP', 'CN'),\n",
       " ('EC', 'P'),\n",
       " ('BS', 'FC'),\n",
       " ('LK', '71'),\n",
       " ('ET', 'OR'),\n",
       " ('US', 'CA'),\n",
       " ('LT', 'VL'),\n",
       " ('AT', '9'),\n",
       " ('RO', 'SB'),\n",
       " ('SB', 'GU'),\n",
       " ('BG', '23'),\n",
       " ('GH', 'AA'),\n",
       " ('PH', 'CEB'),\n",
       " ('BZ', 'TOL'),\n",
       " ('EG', 'C'),\n",
       " (' Palacio Episcopal o Palacio del Rey Niño\"\"\"', 'ES'),\n",
       " ('AZ', 'ABS'),\n",
       " ('NI', 'MN'),\n",
       " ('RW', 'M'),\n",
       " ('CH', 'BS'),\n",
       " ('ER', 'MA'),\n",
       " ('MG', 'U'),\n",
       " ('JM', '1'),\n",
       " ('CR', 'P'),\n",
       " ('PE', 'PAS'),\n",
       " ('IS', '1'),\n",
       " ('CL', 'AT'),\n",
       " ('RU', 'MOW'),\n",
       " ('NZ', 'STL'),\n",
       " ('TZ', '12'),\n",
       " ('UY', 'CL'),\n",
       " ('PR', 'DIF'),\n",
       " ('CS', 'SR'),\n",
       " ('CG', 'BZV'),\n",
       " ('MR', '1'),\n",
       " ('SD', '26'),\n",
       " ('HR', '19'),\n",
       " ('AU', 'WA'),\n",
       " ('FI', 'ES'),\n",
       " ('TL', 'LA'),\n",
       " ('IN', 'DL'),\n",
       " ('FR', '75'),\n",
       " ('KE', '300'),\n",
       " ('TH', '10'),\n",
       " ('PL', 'MA'),\n",
       " ('KH', '12'),\n",
       " ('RS', '0'),\n",
       " ('CU', '1'),\n",
       " ('DO', '11'),\n",
       " ('KP', '8'),\n",
       " ('ID', 'SM'),\n",
       " ('SY', 'DI')]"
      ]
     },
     "execution_count": 4,
     "metadata": {},
     "output_type": "execute_result"
    }
   ],
   "source": [
    "geo_tags.filter(lambda x: x[10] != None).map(lambda x: (x[9], x[10])).groupByKey().map(lambda x:(x[0],Counter(list(x[1])).most_common(1)[0][0])).collect()"
   ]
  },
  {
   "cell_type": "code",
   "execution_count": null,
   "id": "fda3fca9",
   "metadata": {},
   "outputs": [],
   "source": []
  }
 ],
 "metadata": {
  "kernelspec": {
   "display_name": "Python 3 (ipykernel)",
   "language": "python",
   "name": "python3"
  },
  "language_info": {
   "codemirror_mode": {
    "name": "ipython",
    "version": 3
   },
   "file_extension": ".py",
   "mimetype": "text/x-python",
   "name": "python",
   "nbconvert_exporter": "python",
   "pygments_lexer": "ipython3",
   "version": "3.8.10"
  }
 },
 "nbformat": 4,
 "nbformat_minor": 5
}
